{
 "cells": [
  {
   "cell_type": "code",
   "execution_count": 1,
   "id": "c5d28344",
   "metadata": {},
   "outputs": [],
   "source": [
    "import numpy as np \n",
    "import pandas as pd\n",
    "import matplotlib.pyplot as plt\n",
    "import seaborn as sns\n",
    "sns.set()\n",
    "\n",
    "import warnings\n",
    "warnings.filterwarnings(\"ignore\")\n",
    "\n",
    "import io\n",
    "import os\n",
    "os.environ['KMP_DUPLICATE_LIB_OK']='True'"
   ]
  },
  {
   "cell_type": "code",
   "execution_count": 2,
   "id": "e936e606",
   "metadata": {},
   "outputs": [],
   "source": [
    "import tensorflow as tf\n",
    "from tensorflow import keras\n",
    "from tensorflow.keras.preprocessing.text import Tokenizer\n",
    "from tensorflow.keras.utils import pad_sequences\n",
    "from keras.utils import to_categorical"
   ]
  },
  {
   "cell_type": "code",
   "execution_count": 3,
   "id": "723188f3",
   "metadata": {},
   "outputs": [],
   "source": [
    "df_train = pd.read_csv('data/train.txt', names=['Text', 'Emotion'], sep=';')\n",
    "df_val = pd.read_csv('data/val.txt', names=['Text', 'Emotion'], sep=';')\n",
    "df_test = pd.read_csv('data/test.txt', names=['Text', 'Emotion'], sep=';')"
   ]
  },
  {
   "cell_type": "code",
   "execution_count": 4,
   "id": "27b4a2e9",
   "metadata": {},
   "outputs": [
    {
     "data": {
      "text/html": [
       "<div>\n",
       "<style scoped>\n",
       "    .dataframe tbody tr th:only-of-type {\n",
       "        vertical-align: middle;\n",
       "    }\n",
       "\n",
       "    .dataframe tbody tr th {\n",
       "        vertical-align: top;\n",
       "    }\n",
       "\n",
       "    .dataframe thead th {\n",
       "        text-align: right;\n",
       "    }\n",
       "</style>\n",
       "<table border=\"1\" class=\"dataframe\">\n",
       "  <thead>\n",
       "    <tr style=\"text-align: right;\">\n",
       "      <th></th>\n",
       "      <th>Text</th>\n",
       "      <th>Emotion</th>\n",
       "    </tr>\n",
       "  </thead>\n",
       "  <tbody>\n",
       "    <tr>\n",
       "      <th>0</th>\n",
       "      <td>i didnt feel humiliated</td>\n",
       "      <td>sadness</td>\n",
       "    </tr>\n",
       "    <tr>\n",
       "      <th>1</th>\n",
       "      <td>i can go from feeling so hopeless to so damned...</td>\n",
       "      <td>sadness</td>\n",
       "    </tr>\n",
       "    <tr>\n",
       "      <th>2</th>\n",
       "      <td>im grabbing a minute to post i feel greedy wrong</td>\n",
       "      <td>anger</td>\n",
       "    </tr>\n",
       "    <tr>\n",
       "      <th>3</th>\n",
       "      <td>i am ever feeling nostalgic about the fireplac...</td>\n",
       "      <td>love</td>\n",
       "    </tr>\n",
       "    <tr>\n",
       "      <th>4</th>\n",
       "      <td>i am feeling grouchy</td>\n",
       "      <td>anger</td>\n",
       "    </tr>\n",
       "  </tbody>\n",
       "</table>\n",
       "</div>"
      ],
      "text/plain": [
       "                                                Text  Emotion\n",
       "0                            i didnt feel humiliated  sadness\n",
       "1  i can go from feeling so hopeless to so damned...  sadness\n",
       "2   im grabbing a minute to post i feel greedy wrong    anger\n",
       "3  i am ever feeling nostalgic about the fireplac...     love\n",
       "4                               i am feeling grouchy    anger"
      ]
     },
     "execution_count": 4,
     "metadata": {},
     "output_type": "execute_result"
    }
   ],
   "source": [
    "df_train.head()"
   ]
  },
  {
   "cell_type": "code",
   "execution_count": 5,
   "id": "053320e5",
   "metadata": {},
   "outputs": [
    {
     "data": {
      "text/plain": [
       "array(['sadness', 'anger', 'love', 'surprise', 'fear', 'joy'],\n",
       "      dtype=object)"
      ]
     },
     "execution_count": 5,
     "metadata": {},
     "output_type": "execute_result"
    }
   ],
   "source": [
    "df_train[\"Emotion\"].unique()"
   ]
  },
  {
   "cell_type": "code",
   "execution_count": 6,
   "id": "a0a24708",
   "metadata": {},
   "outputs": [
    {
     "data": {
      "text/plain": [
       "6"
      ]
     },
     "execution_count": 6,
     "metadata": {},
     "output_type": "execute_result"
    }
   ],
   "source": [
    "df_train[\"Emotion\"].nunique()"
   ]
  },
  {
   "cell_type": "code",
   "execution_count": 7,
   "id": "f3fd38fd",
   "metadata": {},
   "outputs": [],
   "source": [
    "train_sentences = df_train[\"Text\"]\n",
    "train_labels = np.array(df_train[\"Emotion\"])"
   ]
  },
  {
   "cell_type": "code",
   "execution_count": 8,
   "id": "5b569529",
   "metadata": {},
   "outputs": [],
   "source": [
    "test_sentences = df_test[\"Text\"]\n",
    "test_labels = np.array(df_test[\"Emotion\"])"
   ]
  },
  {
   "cell_type": "code",
   "execution_count": 9,
   "id": "3c00ea1f",
   "metadata": {},
   "outputs": [],
   "source": [
    "val_sentences = df_val[\"Text\"]\n",
    "val_labels = np.array(df_val[\"Emotion\"])"
   ]
  },
  {
   "cell_type": "code",
   "execution_count": 10,
   "id": "1788da93",
   "metadata": {},
   "outputs": [
    {
     "data": {
      "text/plain": [
       "{'sadness': 0, 'anger': 1, 'love': 2, 'surprise': 3, 'fear': 4, 'joy': 5}"
      ]
     },
     "execution_count": 10,
     "metadata": {},
     "output_type": "execute_result"
    }
   ],
   "source": [
    "mapping = {}\n",
    "total_emotions = list(df_train[\"Emotion\"].unique())\n",
    "\n",
    "for x in range(len(total_emotions)):\n",
    "    mapping[total_emotions[x]] = x\n",
    "    \n",
    "mapping"
   ]
  },
  {
   "cell_type": "markdown",
   "id": "c4129b24",
   "metadata": {},
   "source": [
    "😔 sadness\n",
    "\n",
    "😠 angry\n",
    "\n",
    "💖 love\n",
    "\n",
    "😮 surprised \n",
    "\n",
    "😱 fear\n",
    "\n",
    "😃 joy"
   ]
  },
  {
   "cell_type": "code",
   "execution_count": 11,
   "id": "c5ea52bf",
   "metadata": {},
   "outputs": [],
   "source": [
    "def cat2num_encoding(label, mapping):\n",
    "    # integer representation\n",
    "    for x in range(len(label)):\n",
    "        label[x] = mapping[label[x]]\n",
    "    return label"
   ]
  },
  {
   "cell_type": "code",
   "execution_count": 12,
   "id": "0c0db4f4",
   "metadata": {},
   "outputs": [],
   "source": [
    "train_labels = cat2num_encoding(train_labels, mapping)\n",
    "test_labels = cat2num_encoding(test_labels, mapping)\n",
    "val_labels = cat2num_encoding(val_labels, mapping)"
   ]
  },
  {
   "cell_type": "code",
   "execution_count": 13,
   "id": "9ca77907",
   "metadata": {},
   "outputs": [],
   "source": [
    "train_labels = to_categorical(train_labels)\n",
    "test_labels = to_categorical(test_labels)\n",
    "val_labels = to_categorical(val_labels)"
   ]
  },
  {
   "cell_type": "code",
   "execution_count": 14,
   "id": "a5685f82",
   "metadata": {},
   "outputs": [
    {
     "data": {
      "text/plain": [
       "array([1., 0., 0., 0., 0., 0.], dtype=float32)"
      ]
     },
     "execution_count": 14,
     "metadata": {},
     "output_type": "execute_result"
    }
   ],
   "source": [
    "train_labels[5]"
   ]
  },
  {
   "cell_type": "code",
   "execution_count": 15,
   "id": "423b96fa",
   "metadata": {},
   "outputs": [
    {
     "data": {
      "text/plain": [
       "(16000, 6)"
      ]
     },
     "execution_count": 15,
     "metadata": {},
     "output_type": "execute_result"
    }
   ],
   "source": [
    "train_labels.shape"
   ]
  },
  {
   "cell_type": "code",
   "execution_count": 16,
   "id": "a2077ce3",
   "metadata": {},
   "outputs": [],
   "source": [
    "vocab_size = 10000\n",
    "embedding_dim = 16\n",
    "max_length = 120\n",
    "trunc_type = 'post'\n",
    "oov_tok = \"<OOV>\""
   ]
  },
  {
   "cell_type": "code",
   "execution_count": 17,
   "id": "1a2f772e",
   "metadata": {},
   "outputs": [],
   "source": [
    "tokenizer = Tokenizer(vocab_size, oov_token = oov_tok) \n",
    "tokenizer.fit_on_texts(train_sentences)\n",
    "word_index = tokenizer.word_index"
   ]
  },
  {
   "cell_type": "code",
   "execution_count": 18,
   "id": "47b9c5d7",
   "metadata": {},
   "outputs": [],
   "source": [
    "train_sequences = tokenizer.texts_to_sequences(train_sentences)\n",
    "val_sequences = tokenizer.texts_to_sequences(val_sentences)\n",
    "test_sequences = tokenizer.texts_to_sequences(test_sentences)\n",
    "\n",
    "train_padded = pad_sequences(train_sequences, padding = trunc_type, maxlen = max_length)\n",
    "test_padded = pad_sequences(test_sequences, padding = trunc_type, maxlen = max_length)\n",
    "val_padded = pad_sequences(val_sequences, padding = trunc_type, maxlen = max_length)"
   ]
  },
  {
   "cell_type": "code",
   "execution_count": 19,
   "id": "3f6c59cd",
   "metadata": {},
   "outputs": [],
   "source": [
    "model = tf.keras.Sequential([\n",
    "tf.keras.layers.Embedding(vocab_size, embedding_dim, input_length = max_length), \n",
    "tf.keras.layers.GlobalAveragePooling1D(),\n",
    "tf.keras.layers.Dense(16, activation = \"relu\"), \n",
    "tf.keras.layers.Dense(6, activation = \"softmax\")\n",
    "])"
   ]
  },
  {
   "cell_type": "code",
   "execution_count": 20,
   "id": "a3d0a315",
   "metadata": {},
   "outputs": [
    {
     "name": "stdout",
     "output_type": "stream",
     "text": [
      "Model: \"sequential\"\n",
      "_________________________________________________________________\n",
      " Layer (type)                Output Shape              Param #   \n",
      "=================================================================\n",
      " embedding (Embedding)       (None, 120, 16)           160000    \n",
      "                                                                 \n",
      " global_average_pooling1d (G  (None, 16)               0         \n",
      " lobalAveragePooling1D)                                          \n",
      "                                                                 \n",
      " dense (Dense)               (None, 16)                272       \n",
      "                                                                 \n",
      " dense_1 (Dense)             (None, 6)                 102       \n",
      "                                                                 \n",
      "=================================================================\n",
      "Total params: 160,374\n",
      "Trainable params: 160,374\n",
      "Non-trainable params: 0\n",
      "_________________________________________________________________\n"
     ]
    }
   ],
   "source": [
    "model.compile(loss = \"categorical_crossentropy\", optimizer = \"adam\", metrics = [\"accuracy\"])\n",
    "model.summary()"
   ]
  },
  {
   "cell_type": "code",
   "execution_count": 21,
   "id": "7649cceb",
   "metadata": {},
   "outputs": [
    {
     "data": {
      "text/plain": [
       "(16000, 6)"
      ]
     },
     "execution_count": 21,
     "metadata": {},
     "output_type": "execute_result"
    }
   ],
   "source": [
    "train_labels.shape"
   ]
  },
  {
   "cell_type": "code",
   "execution_count": 22,
   "id": "53fb4625",
   "metadata": {},
   "outputs": [
    {
     "data": {
      "text/plain": [
       "array([[1., 0., 0., 0., 0., 0.],\n",
       "       [1., 0., 0., 0., 0., 0.],\n",
       "       [0., 1., 0., 0., 0., 0.],\n",
       "       ...,\n",
       "       [0., 0., 0., 0., 0., 1.],\n",
       "       [0., 1., 0., 0., 0., 0.],\n",
       "       [1., 0., 0., 0., 0., 0.]], dtype=float32)"
      ]
     },
     "execution_count": 22,
     "metadata": {},
     "output_type": "execute_result"
    }
   ],
   "source": [
    "train_labels"
   ]
  },
  {
   "cell_type": "code",
   "execution_count": 23,
   "id": "ec3993e2",
   "metadata": {},
   "outputs": [
    {
     "name": "stdout",
     "output_type": "stream",
     "text": [
      "Model: \"sequential\"\n",
      "_________________________________________________________________\n",
      " Layer (type)                Output Shape              Param #   \n",
      "=================================================================\n",
      " embedding (Embedding)       (None, 120, 16)           160000    \n",
      "                                                                 \n",
      " global_average_pooling1d (G  (None, 16)               0         \n",
      " lobalAveragePooling1D)                                          \n",
      "                                                                 \n",
      " dense (Dense)               (None, 16)                272       \n",
      "                                                                 \n",
      " dense_1 (Dense)             (None, 6)                 102       \n",
      "                                                                 \n",
      "=================================================================\n",
      "Total params: 160,374\n",
      "Trainable params: 160,374\n",
      "Non-trainable params: 0\n",
      "_________________________________________________________________\n"
     ]
    }
   ],
   "source": [
    "model.compile(loss = \"categorical_crossentropy\", optimizer = \"adam\", metrics = [\"accuracy\"])\n",
    "model.summary()"
   ]
  },
  {
   "cell_type": "code",
   "execution_count": 24,
   "id": "2ee451d2",
   "metadata": {
    "scrolled": true
   },
   "outputs": [
    {
     "name": "stdout",
     "output_type": "stream",
     "text": [
      "Epoch 1/50\n",
      "500/500 [==============================] - 6s 8ms/step - loss: 1.6093 - accuracy: 0.3223 - val_loss: 1.5752 - val_accuracy: 0.3520\n",
      "Epoch 2/50\n",
      "500/500 [==============================] - 3s 6ms/step - loss: 1.5661 - accuracy: 0.3351 - val_loss: 1.5690 - val_accuracy: 0.3520\n",
      "Epoch 3/50\n",
      "500/500 [==============================] - 3s 6ms/step - loss: 1.5522 - accuracy: 0.3351 - val_loss: 1.5529 - val_accuracy: 0.3520\n",
      "Epoch 4/50\n",
      "500/500 [==============================] - 3s 6ms/step - loss: 1.5172 - accuracy: 0.3621 - val_loss: 1.5025 - val_accuracy: 0.3975\n",
      "Epoch 5/50\n",
      "500/500 [==============================] - 3s 6ms/step - loss: 1.4205 - accuracy: 0.4470 - val_loss: 1.3816 - val_accuracy: 0.4995\n",
      "Epoch 6/50\n",
      "500/500 [==============================] - 3s 6ms/step - loss: 1.2230 - accuracy: 0.5585 - val_loss: 1.1686 - val_accuracy: 0.6490\n",
      "Epoch 7/50\n",
      "500/500 [==============================] - 3s 6ms/step - loss: 0.9393 - accuracy: 0.7242 - val_loss: 0.9398 - val_accuracy: 0.7120\n",
      "Epoch 8/50\n",
      "500/500 [==============================] - 3s 6ms/step - loss: 0.7207 - accuracy: 0.7964 - val_loss: 0.7967 - val_accuracy: 0.7520\n",
      "Epoch 9/50\n",
      "500/500 [==============================] - 3s 5ms/step - loss: 0.5790 - accuracy: 0.8436 - val_loss: 0.6941 - val_accuracy: 0.8030\n",
      "Epoch 10/50\n",
      "500/500 [==============================] - 2s 4ms/step - loss: 0.4839 - accuracy: 0.8719 - val_loss: 0.6399 - val_accuracy: 0.8105\n",
      "Epoch 11/50\n",
      "500/500 [==============================] - 2s 4ms/step - loss: 0.4181 - accuracy: 0.8869 - val_loss: 0.5972 - val_accuracy: 0.8190\n",
      "Epoch 12/50\n",
      "500/500 [==============================] - 2s 4ms/step - loss: 0.3683 - accuracy: 0.8989 - val_loss: 0.5714 - val_accuracy: 0.8200\n",
      "Epoch 13/50\n",
      "500/500 [==============================] - 2s 5ms/step - loss: 0.3306 - accuracy: 0.9056 - val_loss: 0.5565 - val_accuracy: 0.8240\n",
      "Epoch 14/50\n",
      "500/500 [==============================] - 2s 5ms/step - loss: 0.3000 - accuracy: 0.9118 - val_loss: 0.5453 - val_accuracy: 0.8300\n",
      "Epoch 15/50\n",
      "500/500 [==============================] - 2s 5ms/step - loss: 0.2746 - accuracy: 0.9176 - val_loss: 0.5483 - val_accuracy: 0.8280\n",
      "Epoch 16/50\n",
      "500/500 [==============================] - 2s 5ms/step - loss: 0.2536 - accuracy: 0.9222 - val_loss: 0.5405 - val_accuracy: 0.8320\n",
      "Epoch 17/50\n",
      "500/500 [==============================] - 2s 5ms/step - loss: 0.2351 - accuracy: 0.9262 - val_loss: 0.5351 - val_accuracy: 0.8360\n",
      "Epoch 18/50\n",
      "500/500 [==============================] - 2s 5ms/step - loss: 0.2193 - accuracy: 0.9295 - val_loss: 0.5348 - val_accuracy: 0.8335\n",
      "Epoch 19/50\n",
      "500/500 [==============================] - 2s 5ms/step - loss: 0.2041 - accuracy: 0.9331 - val_loss: 0.5353 - val_accuracy: 0.8370\n",
      "Epoch 20/50\n",
      "500/500 [==============================] - 2s 5ms/step - loss: 0.1906 - accuracy: 0.9376 - val_loss: 0.5390 - val_accuracy: 0.8385\n",
      "Epoch 21/50\n",
      "500/500 [==============================] - 2s 5ms/step - loss: 0.1765 - accuracy: 0.9474 - val_loss: 0.5552 - val_accuracy: 0.8335\n",
      "Epoch 22/50\n",
      "500/500 [==============================] - 2s 5ms/step - loss: 0.1649 - accuracy: 0.9536 - val_loss: 0.5472 - val_accuracy: 0.8425\n",
      "Epoch 23/50\n",
      "500/500 [==============================] - 2s 5ms/step - loss: 0.1536 - accuracy: 0.9582 - val_loss: 0.5562 - val_accuracy: 0.8395\n",
      "Epoch 24/50\n",
      "500/500 [==============================] - 2s 5ms/step - loss: 0.1421 - accuracy: 0.9631 - val_loss: 0.5601 - val_accuracy: 0.8525\n",
      "Epoch 25/50\n",
      "500/500 [==============================] - 2s 5ms/step - loss: 0.1331 - accuracy: 0.9665 - val_loss: 0.5650 - val_accuracy: 0.8505\n",
      "Epoch 26/50\n",
      "500/500 [==============================] - 2s 5ms/step - loss: 0.1233 - accuracy: 0.9699 - val_loss: 0.5912 - val_accuracy: 0.8445\n",
      "Epoch 27/50\n",
      "500/500 [==============================] - 3s 5ms/step - loss: 0.1149 - accuracy: 0.9716 - val_loss: 0.6023 - val_accuracy: 0.8465\n",
      "Epoch 28/50\n",
      "500/500 [==============================] - 3s 5ms/step - loss: 0.1075 - accuracy: 0.9734 - val_loss: 0.5855 - val_accuracy: 0.8500\n",
      "Epoch 29/50\n",
      "500/500 [==============================] - 2s 5ms/step - loss: 0.1000 - accuracy: 0.9753 - val_loss: 0.5891 - val_accuracy: 0.8515\n",
      "Epoch 30/50\n",
      "500/500 [==============================] - 2s 5ms/step - loss: 0.0936 - accuracy: 0.9769 - val_loss: 0.5935 - val_accuracy: 0.8530\n",
      "Epoch 31/50\n",
      "500/500 [==============================] - 2s 5ms/step - loss: 0.0875 - accuracy: 0.9787 - val_loss: 0.6038 - val_accuracy: 0.8535\n",
      "Epoch 32/50\n",
      "500/500 [==============================] - 2s 5ms/step - loss: 0.0819 - accuracy: 0.9796 - val_loss: 0.6177 - val_accuracy: 0.8500\n",
      "Epoch 33/50\n",
      "500/500 [==============================] - 2s 5ms/step - loss: 0.0762 - accuracy: 0.9822 - val_loss: 0.6321 - val_accuracy: 0.8495\n",
      "Epoch 34/50\n",
      "500/500 [==============================] - 2s 5ms/step - loss: 0.0731 - accuracy: 0.9808 - val_loss: 0.6305 - val_accuracy: 0.8515\n",
      "Epoch 35/50\n",
      "500/500 [==============================] - 2s 5ms/step - loss: 0.0682 - accuracy: 0.9831 - val_loss: 0.6393 - val_accuracy: 0.8525\n",
      "Epoch 36/50\n",
      "500/500 [==============================] - 2s 5ms/step - loss: 0.0649 - accuracy: 0.9838 - val_loss: 0.6529 - val_accuracy: 0.8485\n",
      "Epoch 37/50\n",
      "500/500 [==============================] - 2s 5ms/step - loss: 0.0610 - accuracy: 0.9847 - val_loss: 0.6721 - val_accuracy: 0.8500\n",
      "Epoch 38/50\n",
      "500/500 [==============================] - 2s 5ms/step - loss: 0.0583 - accuracy: 0.9849 - val_loss: 0.6720 - val_accuracy: 0.8480\n",
      "Epoch 39/50\n",
      "500/500 [==============================] - 2s 5ms/step - loss: 0.0552 - accuracy: 0.9865 - val_loss: 0.6796 - val_accuracy: 0.8490\n",
      "Epoch 40/50\n",
      "500/500 [==============================] - 2s 4ms/step - loss: 0.0543 - accuracy: 0.9860 - val_loss: 0.7542 - val_accuracy: 0.8375\n",
      "Epoch 41/50\n",
      "500/500 [==============================] - 2s 4ms/step - loss: 0.0511 - accuracy: 0.9863 - val_loss: 0.7079 - val_accuracy: 0.8490\n",
      "Epoch 42/50\n",
      "500/500 [==============================] - 2s 5ms/step - loss: 0.0486 - accuracy: 0.9872 - val_loss: 0.7170 - val_accuracy: 0.8515\n",
      "Epoch 43/50\n",
      "500/500 [==============================] - 2s 5ms/step - loss: 0.0459 - accuracy: 0.9881 - val_loss: 0.7342 - val_accuracy: 0.8465\n",
      "Epoch 44/50\n",
      "500/500 [==============================] - 2s 5ms/step - loss: 0.0432 - accuracy: 0.9891 - val_loss: 0.7584 - val_accuracy: 0.8445\n",
      "Epoch 45/50\n",
      "500/500 [==============================] - 2s 5ms/step - loss: 0.0417 - accuracy: 0.9899 - val_loss: 0.7525 - val_accuracy: 0.8480\n",
      "Epoch 46/50\n",
      "500/500 [==============================] - 2s 5ms/step - loss: 0.0397 - accuracy: 0.9900 - val_loss: 0.7788 - val_accuracy: 0.8405\n",
      "Epoch 47/50\n",
      "500/500 [==============================] - 2s 5ms/step - loss: 0.0380 - accuracy: 0.9902 - val_loss: 0.7821 - val_accuracy: 0.8400\n",
      "Epoch 48/50\n",
      "500/500 [==============================] - 2s 5ms/step - loss: 0.0368 - accuracy: 0.9906 - val_loss: 0.8040 - val_accuracy: 0.8410\n",
      "Epoch 49/50\n",
      "500/500 [==============================] - 2s 5ms/step - loss: 0.0360 - accuracy: 0.9904 - val_loss: 0.8013 - val_accuracy: 0.8415\n",
      "Epoch 50/50\n",
      "500/500 [==============================] - 2s 5ms/step - loss: 0.0343 - accuracy: 0.9912 - val_loss: 0.8146 - val_accuracy: 0.8400\n"
     ]
    }
   ],
   "source": [
    "history = model.fit(train_padded, train_labels, epochs = 50, validation_data = (val_padded, val_labels))"
   ]
  },
  {
   "cell_type": "code",
   "execution_count": 25,
   "id": "f374513f",
   "metadata": {},
   "outputs": [
    {
     "data": {
      "image/png": "[encoded data removed]",
      "text/plain": [
       "<Figure size 640x480 with 1 Axes>"
      ]
     },
     "metadata": {},
     "output_type": "display_data"
    },
    {
     "data": {
      "image/png": "[encoded data removed]",
      "text/plain": [
       "<Figure size 640x480 with 1 Axes>"
      ]
     },
     "metadata": {},
     "output_type": "display_data"
    }
   ],
   "source": [
    "def plot_graphs(history, metric):\n",
    "    plt.plot(history.history[metric])\n",
    "    plt.plot(history.history[f'val_{metric}'])\n",
    "    plt.xlabel(\"Epochs\")\n",
    "    plt.ylabel(metric)\n",
    "    plt.legend([metric, f'val_{metric}'])\n",
    "    plt.show()\n",
    "    \n",
    "plot_graphs(history, \"accuracy\")\n",
    "plot_graphs(history, \"loss\")"
   ]
  },
  {
   "cell_type": "code",
   "execution_count": 26,
   "id": "e160da75",
   "metadata": {},
   "outputs": [
    {
     "name": "stdout",
     "output_type": "stream",
     "text": [
      "63/63 [==============================] - 0s 3ms/step - loss: 0.8474 - accuracy: 0.8260\n"
     ]
    }
   ],
   "source": [
    "results = model.evaluate(test_padded, test_labels)"
   ]
  },
  {
   "cell_type": "code",
   "execution_count": 27,
   "id": "ae04facf",
   "metadata": {},
   "outputs": [
    {
     "name": "stdout",
     "output_type": "stream",
     "text": [
      "test loss :  0.85\n",
      "test acc :  0.83\n"
     ]
    }
   ],
   "source": [
    "val = 2\n",
    "\n",
    "print(\"test loss : \", round(results[0], val))\n",
    "print(\"test acc : \", round(results[1], val))"
   ]
  },
  {
   "cell_type": "markdown",
   "id": "fce14c84",
   "metadata": {},
   "source": [
    "# Extra Playing "
   ]
  },
  {
   "cell_type": "code",
   "execution_count": 28,
   "id": "2994e819",
   "metadata": {},
   "outputs": [],
   "source": [
    "reverse_word_index = dict([(value, key) for (key, value) in word_index.items()])"
   ]
  },
  {
   "cell_type": "code",
   "execution_count": 29,
   "id": "b1329c1d",
   "metadata": {},
   "outputs": [
    {
     "name": "stdout",
     "output_type": "stream",
     "text": [
      "Weights of embedding layer have shape: (10000, 16)\n"
     ]
    }
   ],
   "source": [
    "# Save the embedding layer\n",
    "e = model.layers[0]\n",
    "\n",
    "# Save the weights of the embedding layer\n",
    "weights = e.get_weights()[0]\n",
    "print(f\"Weights of embedding layer have shape: {weights.shape}\")"
   ]
  },
  {
   "cell_type": "code",
   "execution_count": 30,
   "id": "159db373",
   "metadata": {},
   "outputs": [],
   "source": [
    "# Generate files for embedding visualization\n",
    "out_v = io.open('vecs.tsv', 'w', encoding='utf-8')\n",
    "out_m = io.open('meta.tsv', 'w', encoding='utf-8')\n",
    "for word_num in range(1, vocab_size):\n",
    "    word = reverse_word_index[word_num]\n",
    "    embeddings = weights[word_num]\n",
    "    out_m.write(word + \"\\n\")\n",
    "    out_v.write('\\t'.join([str(x) for x in embeddings]) + \"\\n\")\n",
    "out_v.close()\n",
    "out_m.close()"
   ]
  },
  {
   "cell_type": "markdown",
   "id": "10c5f08f",
   "metadata": {},
   "source": [
    "# For test samples - direct input"
   ]
  },
  {
   "cell_type": "code",
   "execution_count": 31,
   "id": "968b72c2",
   "metadata": {},
   "outputs": [
    {
     "data": {
      "text/plain": [
       "{0: 'sadness', 1: 'anger', 2: 'love', 3: 'surprise', 4: 'fear', 5: 'joy'}"
      ]
     },
     "execution_count": 31,
     "metadata": {},
     "output_type": "execute_result"
    }
   ],
   "source": [
    "emotion_mapping = {}\n",
    "for key in mapping:\n",
    "    val = mapping[key]\n",
    "    emotion_mapping[val] = key\n",
    "    \n",
    "emotion_mapping"
   ]
  },
  {
   "cell_type": "code",
   "execution_count": 32,
   "id": "edbe2720",
   "metadata": {},
   "outputs": [],
   "source": [
    "def sort_dict(myDict):\n",
    "    myKeys = list(myDict.keys())\n",
    "    myKeys.sort(reverse = True)\n",
    "    sorted_dict = {i: myDict[i] for i in myKeys}\n",
    "    return sorted_dict"
   ]
  },
  {
   "cell_type": "code",
   "execution_count": 33,
   "id": "a5bbae1e",
   "metadata": {},
   "outputs": [],
   "source": [
    "def predict_emotion(sentence, tokenizer, trunc_type, \n",
    "                    max_length, model, mapping):\n",
    "    sequences = tokenizer.texts_to_sequences(sentence)\n",
    "    padded = pad_sequences(sequences, padding = trunc_type, \n",
    "                           maxlen = max_length)\n",
    "    ans = list(model.predict(padded)[0])\n",
    "    #classes = np.argmax(ans,axis=1)[0]\n",
    "    \n",
    "    emotion = {}\n",
    "    for index, val in enumerate(ans):\n",
    "        emotion[ans[index]] = mapping[index]\n",
    "        \n",
    "    return emotion"
   ]
  },
  {
   "cell_type": "code",
   "execution_count": 47,
   "id": "b34fea43",
   "metadata": {},
   "outputs": [
    {
     "name": "stdout",
     "output_type": "stream",
     "text": [
      "1/1 [==============================] - 0s 84ms/step\n"
     ]
    },
    {
     "data": {
      "text/plain": [
       "{0.6391841: 'love',\n",
       " 0.2261314: 'joy',\n",
       " 0.10041563: 'surprise',\n",
       " 0.034136835: 'fear',\n",
       " 9.836625e-05: 'sadness',\n",
       " 3.36046e-05: 'anger'}"
      ]
     },
     "execution_count": 47,
     "metadata": {},
     "output_type": "execute_result"
    }
   ],
   "source": [
    "sentence = [\"I am blessed\"]\n",
    "ans = predict_emotion(sentence, tokenizer, trunc_type, max_length, model, emotion_mapping)\n",
    "sort_dict(ans)"
   ]
  },
  {
   "cell_type": "code",
   "execution_count": 35,
   "id": "1bb5cb4e",
   "metadata": {},
   "outputs": [
    {
     "data": {
      "text/plain": [
       "{'sadness': 0, 'anger': 1, 'love': 2, 'surprise': 3, 'fear': 4, 'joy': 5}"
      ]
     },
     "execution_count": 35,
     "metadata": {},
     "output_type": "execute_result"
    }
   ],
   "source": [
    "mapping"
   ]
  },
  {
   "cell_type": "markdown",
   "id": "d4d2be5f",
   "metadata": {},
   "source": [
    "# Export the model"
   ]
  },
  {
   "cell_type": "code",
   "execution_count": 36,
   "id": "f09d7d54",
   "metadata": {},
   "outputs": [
    {
     "name": "stdout",
     "output_type": "stream",
     "text": [
      "INFO:tensorflow:Assets written to: emotion_recognizer_model\\assets\n"
     ]
    }
   ],
   "source": [
    "model.save('emotion_recognizer_model')"
   ]
  },
  {
   "cell_type": "code",
   "execution_count": 37,
   "id": "0f719b61",
   "metadata": {},
   "outputs": [],
   "source": [
    "file = open(\"tokenizer.txt\", \"w\")\n",
    "file.write(\"%s\" %(tokenizer))\n",
    "file.close()"
   ]
  },
  {
   "cell_type": "code",
   "execution_count": 38,
   "id": "7d91b800",
   "metadata": {},
   "outputs": [
    {
     "data": {
      "text/plain": [
       "keras.preprocessing.text.Tokenizer"
      ]
     },
     "execution_count": 38,
     "metadata": {},
     "output_type": "execute_result"
    }
   ],
   "source": [
    "type(tokenizer)"
   ]
  },
  {
   "cell_type": "code",
   "execution_count": null,
   "id": "5cab511d",
   "metadata": {},
   "outputs": [],
   "source": []
  }
 ],
 "metadata": {
  "kernelspec": {
   "display_name": "Python 3 (ipykernel)",
   "language": "python",
   "name": "python3"
  },
  "language_info": {
   "codemirror_mode": {
    "name": "ipython",
    "version": 3
   },
   "file_extension": ".py",
   "mimetype": "text/x-python",
   "name": "python",
   "nbconvert_exporter": "python",
   "pygments_lexer": "ipython3",
   "version": "3.8.16"
  }
 },
 "nbformat": 4,
 "nbformat_minor": 5
}
